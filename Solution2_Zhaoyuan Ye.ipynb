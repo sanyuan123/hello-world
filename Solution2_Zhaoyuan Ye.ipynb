{
 "cells": [
  {
   "cell_type": "markdown",
   "metadata": {},
   "source": [
    "# Assignment 02\n",
    "\n",
    "**Due:** Thursday, 2020-02-13, 11:59 PM, as a Jupyter notebook submitted via your repo in the course GitHub organization (see the detailed submission instructions in our LabResources repo).  Edit the provided Solution02 notebook with your solutions.  All subproblems are worth 1 point unless otherwise noted (grading will assign fractional points as appropriate)."
   ]
  },
  {
   "cell_type": "markdown",
   "metadata": {
    "tags": [
     "problem=1.1",
     "points=0.5"
    ]
   },
   "source": [
    "### Problem 1.1 (1/2 point):\n",
    "\n",
    "> *How many possible binary logical operations are there?*  Don't just report a number; briefly explain your reasoning.\n",
    "\n",
    "**The answer is 16**. Since it is a binary problem, then its inputs (A,B) where A={0,1} B={0,1} have 2^2=4 combinations. \"Possible binary logical operations\" here means given (A,B), how many different kinds of output will be? \n",
    "\n",
    "Since each output has 2 values (0 or 1), therefore the total result is {0,1}x{0,1}x{0,1}x{0,1}=2x2x2x2=2^4=16. Hence the answer is **16 possible logical operations.**"
   ]
  },
  {
   "cell_type": "markdown",
   "metadata": {
    "tags": [
     "problem=1.2",
     "points=0.5"
    ]
   },
   "source": [
    "### Problem 1.2 (1/2 point):\n",
    "\n",
    "An important result in propositional logic is that **all** possible logical operations can be expressed in terms of **NOT**, **AND**, and **OR**; one says this set of operations is *functionally complete*.  In particular, whatever your answer was for Problem 1.1, all of those binary operations can be expressed as some combination of **NOT**, **AND**, and **OR**.  This is important for probability theory, which is built on expressions for probabilities for these three operations on propositions.\n",
    "\n",
    "> *Express **XOR** in terms of **NOT**, **AND**, and **OR** (you may not need all of them).*\n",
    "\n",
    "> Present your result as a truth table similar to this:\n",
    "\n",
    "**My Answer**\n",
    "\n",
    "| $A$ | $B$ |    A AND NOT B | NOT A AND B | (A AND NOT B) OR (NOT A AND B) |  **Result of XOR** |\n",
    "|:---:|:---:|:---:|:---:|:---:|:----------:|\n",
    "| 0   | 0   |    0   | 0   |  0   |    0          |\n",
    "| 0   | 1   |    0  | 1   |  1   |    1          |\n",
    "| 1   | 0   |    1   | 0   |  1   |    1          |\n",
    "| 1   | 1   |    0  | 0  |  0   |    0          |\n",
    "\n",
    "**Therefore XOR can be constructed by (A AND NOT B) OR (NOT A AND B)**\n",
    "> Replace **OP1**, etc., with whatever operations you are composing to construct **XOR** (i.e., showing the ingredients comprising your expression), and replace **Answer** with your final expression (e.g., something like $(A\\land B)\\lor (\\overline{A\\lor B}) \\land B$, but not exactly that!).\n",
    "\n",
    "[To quickly create nice Markdown markup for the tables above, I used the [Markdown TablesGenerator](http://www.tablesgenerator.com/markdown_tables) that we used in Lab.  Feel free to use it to help with your solutions.]"
   ]
  },
  {
   "cell_type": "markdown",
   "metadata": {
    "tags": [
     "problem=1.3",
     "points=1"
    ]
   },
   "source": [
    "### Problem 1.3:\n",
    "\n",
    "There are other small sets of functionally complete operations.  In fact, all possible logical operations can be expressed in terms of a **single** binary operator, which may be taken to be either **NAND** (\"*NOT* *AND*\" or \"not both,\" i.e., $\\overline{A\\land B}$) or **NOR** (\"*NOT* *OR*,\" i.e., $\\overline{A\\lor B}$, \"neither $A$ nor $B$\"), as defined in the following truth table:\n",
    "\n",
    "| $A$ | $B$ |   $A$ NAND $B$ | $A$ NOR $B$ |\n",
    "|:---:|:---:|:------------:|:-----------:|\n",
    "| 0   | 0   |    1            | 1           |\n",
    "| 0   | 1   |    1            | 0           |\n",
    "| 1   | 0   |    1            | 0           |\n",
    "| 1   | 1   |    0            | 0           |\n",
    "\n",
    "> *Pick one of these operators, and express $\\overline{A}$, $A\\land B$, and $A\\lor B$ in terms of it.*  You need only present three expressions (use MathJax LaTeX); no truth tables are necessary.\n",
    "\n",
    "Here's my answer:\n",
    "I pick **NAND**:\n",
    "$(1). \\overline{A}=\\overline{A\\land A}  $\n",
    "\n",
    "$(2). A\\land B = \\overline{(\\overline{A\\land B})\\land (\\overline{A\\land B})} $\n",
    "\n",
    "$(3). A\\lor B= \\overline{(\\overline{A\\land A})\\land (\\overline{B\\land B})} $"
   ]
  },
  {
   "cell_type": "markdown",
   "metadata": {
    "tags": [
     "problem=1.4",
     "points=1"
    ]
   },
   "source": [
    "### Problem 1.4:\n",
    "\n",
    "Digital computers are essentially propositional logic computing devices, built using \"combinational logic gate\" circuit elements that implement basic logic functions (and \"sequential logic\" elements that implement memory).  A key component of a CPU chip in a computer is an *arithmetic logic unit* (ALU) that performs arithmetic and bitwise logic operations on bits and larger groups of binary digits (*nibbles* comprised of 4 bits, *bytes* comprised of 8 bits, and *words* comprised of multiple bytes).  The ALU is built from simple gates that implement desired operations via truth table representations.  For example, the addition of the lowermost bits, $A$ and $B$, of two numbers can be expressed by the following truth table:\n",
    "\n",
    "| $A$ | $B$ |    Sum | Carry |\n",
    "|:---:|:---:|:---:|:-----:|\n",
    "| 0   | 0   |    0   | 0     |\n",
    "| 0   | 1   |    1   | 0     |\n",
    "| 1   | 0   |    1   | 0     |\n",
    "| 1   | 1   |    0   | 1     |\n",
    "\n",
    "Here **Sum** denotes the first (lowermost) binary digit of the sum of $A$ and $B$, and **Carry** denotes a carry bit, indicating that $1+1=2$, or 10 in binary (the carry bit will affect the outcome of adding the next highest bits of the numbers being processed by the ALU).  Two logic functions implementing this table comprise a *half adder* (a *full adder* is a trinary operation that handles an additional carry bit input).\n",
    "\n",
    "> *Express the Sum and Carry operations in terms of **NOT**, **AND**, and **OR**.*  Show the intermediate operations in a truth table, along the lines of Problem 1.2.\n",
    "\n",
    "|$A$ | $B$ | $$A\\lor B$$ |$$CARRY = A\\land B$$ | $$\\overline{A\\land B}$$ |$$SUM = (A\\lor B)\\land (\\overline{A\\land B})$$ |\n",
    "|:---:|:---:|:-----------:|:------------:|:-----------------------:|:----------------------------------------:|\n",
    "| 0 | 0 | 0         | 0          | 1                     | 0                                      |\n",
    "| 0 | 1 | 1         | 0          | 1                     | 1                                      |\n",
    "| 1 | 0 | 1         | 0          | 1                     | 1                                      |\n",
    "| 1 | 1 | 1         | 1          | 0                     | 0                                      |\n"
   ]
  },
  {
   "cell_type": "markdown",
   "metadata": {
    "tags": [
     "problem=2.1",
     "points=1"
    ]
   },
   "source": [
    "### Problem 2.1:\n",
    "\n",
    "> *Using Bayes's theorem, answer the question posed in the Kahneman/Tversky problem, verifying that the typical answer is incorrect.*\n",
    "> * Specify the hypothesis space.\n",
    "> * Specify the data proposition.\n",
    "> * Calculate the posterior probabilities for the hypotheses, presenting a table that shows the prior, likelihood, prior$\\times$likelihood, and posterior probabilities for the hypotheses.\n",
    "\n",
    "\n",
    "**Hypothesis space H_B；the cab was actually blue** \n",
    "\n",
    "**Hypothesis space H_G；the cab was actually green**\n",
    "\n",
    "\n",
    "**Data proposistion: the witness recognized the cab as Blue (two cases: 1. the witness is right, namely the cab is really blue. 2. the witness is wrong. the witness misrecognized the green cab as the blue one)**\n",
    "\n",
    "\n",
    "\n",
    "**Calculation Part**\n",
    "\n",
    "**The car is actually blue=B_real, the witness recognized the cab as Blue =B,  the witness misrecognized the green cab as the blue one = B_fake**\n",
    "\n",
    "**Target: P(B_real|B)**\n",
    "\n",
    "**Prior :P(B)=P(B,B_real)+P(B,B_fake)=P（B|B_real) x P(B_real)+P（B|B_fake) x P(B_fake)=0.8x0.15+0.2x0.85=0.29**\n",
    "\n",
    "**Posterior: P(B_real|B)=P(B_real, B)/P(B)=P（B|B_real) x P(B_real)/P(B)=0.12/0.29=0.4138 =41.38%**\n",
    "\n",
    "**The posterior probabilities for the hypotheses H_B is 41.38%, for H_G = 1-41.38%=58.62%**\n",
    "\n",
    "\n"
   ]
  },
  {
   "cell_type": "markdown",
   "metadata": {
    "tags": [
     "problem=2.2",
     "points=1"
    ]
   },
   "source": [
    "### Problem 2.2:\n",
    "\n",
    "> Briefly explain what you think the heuristic is that most people used to justify their conclusion.  Criticize it in light of the result of the calculation in Problem 2.1.\n",
    "\n",
    "**People sometimes use their instinct to solve the probability question. Here since the witness is 80% correct of the time. Therefore intuitively, the prbability that the car was actually blue is also nearly 80%. However, they do not take the proportion (distribution) of the Blue and Green cab into account and this causes the bias of the result.**"
   ]
  },
  {
   "cell_type": "markdown",
   "metadata": {
    "tags": [
     "problem=3.1",
     "points=1"
    ]
   },
   "source": [
    "### Problem 3.1 — Lazy Monty\n",
    "\n",
    "One of the contextual assumptions used in the lecture was that, when you have chosen the door with the prize behind it, Monty will open one of the other doors by choosing one of them randomly, with equal probability. Here, consider slightly different contextual information, $\\mathcal{C}'$, that specifies probabilities $q_2$ and $q_3 = 1-q_2$ that Monty will pick door 2 or door 3 (respectively) when neither hide the prize.  For example, from watching the show, you may have observed that Monty is at the right of the stage, and appears to be lazy: when he could have chosen either door, he tends to favor the one nearest to him (i.e., $q_3 > q_2$).\n",
    "\n",
    "> *Recalculate the probability table we computed in the lecture, to calculate posterior probabilities that the prize is behind each of the three doors.  As was done in lecture, assume you've initially chosen door 1, and that Monty opens door 3.*\n",
    "\n"
   ]
  },
  {
   "cell_type": "markdown",
   "metadata": {},
   "source": [
    "| $H_i$ |    $\\pi_{i}$ | $L_{i}$ | $$\\pi_{i}*L_i$$ | $$\\mathbb{P}(H_i \\mid D_3, C)$$ |\n",
    "|:----:  |:----: |:----: |:------- : |:-----------------------:|\n",
    "|   H1 |    1/3  | $q_{3}$|     $\\frac{1}{3}q_3$ |$\\frac{q_3}{1+q_3}$  |\n",
    "|    H2|     1/3 |  1   |  $\\frac{1}{3}$      | $\\frac{1}{1+q_3}$  |\n",
    "|    H3|    1/3  |   0  |     0               |  0                |\n"
   ]
  },
  {
   "cell_type": "markdown",
   "metadata": {
    "tags": [
     "problem=3.2",
     "points=1"
    ]
   },
   "source": [
    "### Problem 3.2 — LTP version\n",
    "\n",
    "Consider again the Monte Hall problem as treated in the lecture. We treated the case where you initially chose door 1, and the datum was the proposition, \"Monty opened door 3\" (which we denoted $D_3$).  It's probably obvious to you that the problem has symmetries: that it doesn't matter which door you initially picked, or which of the other doors Monty opened: it's always in your interest to switch.\n",
    "\n",
    "Here, treat the problem in a more symmetric way.  Keep the assumption that you've initially chosen door 1.  But suppose you are trying to come up with a *strategy* for the game, before knowing which door Monty opens (but otherwise knowing all the rules, as specified in the lecture).  Let $W$ denote the proposition, \"I will win by switching to the door Monty does not open.\"  \n",
    "\n",
    "> *Compute $P(W|\\mathcal{C})$ using the law of total probability (LTP) in the \"extend the conversation\" or \"wishful thinking\" version discussed in Lec03.  Pick a set of exclusive, exhaustive propositions (filling the role of the $B_i$ in Lec03) such that, if you knew one of them were true, you could compute $P(W|B_i,\\mathcal{C})$ (use whatever symbol you deem appropriate for $B_i$).  Then use the LTP to account for uncertainty about which of those propositions actually holds.*\n",
    "\n",
    "**Hint:** You should find the same result we found in the specific case treated in class, that the probability for winning if you switch is 2/3.\n",
    "\n",
    "**Define Bi as the prize is behind the door i. Keep the assumption that you've initially chosen door 1.\n",
    "W:win by switching to the door Monty does not open.**\n",
    "\n",
    "\n",
    "**P(W)=P(W,B1)+P(W,B2)+P(W,B3)=P(W|B1)P(B1)+P(W|B2)P(B2)+P(W|B3)P(B3)=0+1x1/3+1x1/3=2/3**\n",
    "\n",
    "\n",
    "\n"
   ]
  },
  {
   "cell_type": "markdown",
   "metadata": {
    "tags": [
     "problem=4.1",
     "points=1"
    ]
   },
   "source": [
    "### Problem 4.1:\n",
    "\n",
    "> *Derive the formula given in lecture for the expectation value of $x$, denoted $\\Bbb{E}(x)$ or $\\langle x\\rangle$, in terms of $a$ and $b$, where*\n",
    "$$\n",
    "\\Bbb{E}(x) = \\int dx\\; x \\times {\\rm Beta}(x|a,b).\n",
    "$$\n",
    "\n",
    "Present your derivation in the Jupyter notebook using MathJax LaTeX notation for the math (make sure to also use text to briefly explain your reasoning). \n",
    "\n",
    "\n",
    "$$E(X)=\\frac{1}{B(a,b)}\\int_{0}^{1}x^{a+1-1}(1-x)^{b-1} dx= \\frac{1}{B(a,b)}B(a+1,b) = \\frac{\\gamma(a+1)\\gamma(b)}{\\gamma(a+b+1)} \\times \\frac{\\gamma(a+b)}{\\gamma(a)\\gamma(b)} = \\frac{\\gamma(a+b)}{\\gamma(a)} \\times \\frac{a\\gamma(a)}{(a+b)\\gamma(a+b)}= \\frac{a}{a+b} $$"
   ]
  },
  {
   "cell_type": "markdown",
   "metadata": {
    "tags": [
     "problem=4.2",
     "points=1"
    ]
   },
   "source": [
    "### Problem 4.2:\n",
    "\n",
    "> *Derive the formula given in lecture for the mode of the beta distribution, $\\hat x$, in terms of $a$ and $b$.  (The mode is the value of $x$ with maximum probability density).*\n",
    "\n",
    "\n"
   ]
  },
  {
   "cell_type": "markdown",
   "metadata": {},
   "source": [
    "**Since the mode is the value of  𝑥  with maximum probability density, derivative should be zero.**\n",
    "\n",
    "$$\\frac{1}{B(a,b)}[(a-1)x^{a-2}(1-x)^{b-1}-(b-1)x^{a-1}(1-x)^{b-2}]=0 \\\\\n",
    "\\frac{1}{B(a,b)} x^{a-2}(1-x)^{b-2}[(a-1)(1-x)-(b-1)x ]=0 \\\\\n",
    "(a-1)(1-x)-(b-1)x = 0 \\\\\n",
    "(a-1)-x(a+b-2)=0 $$\n",
    "\n",
    "$$x=\\frac{a-1}{a=b-2}$$\n"
   ]
  },
  {
   "cell_type": "code",
   "execution_count": null,
   "metadata": {},
   "outputs": [],
   "source": []
  }
 ],
 "metadata": {
  "celltoolbar": "Tags",
  "kernelspec": {
   "display_name": "Python 3",
   "language": "python",
   "name": "python3"
  },
  "language_info": {
   "codemirror_mode": {
    "name": "ipython",
    "version": 3
   },
   "file_extension": ".py",
   "mimetype": "text/x-python",
   "name": "python",
   "nbconvert_exporter": "python",
   "pygments_lexer": "ipython3",
   "version": "3.7.6"
  }
 },
 "nbformat": 4,
 "nbformat_minor": 1
}
