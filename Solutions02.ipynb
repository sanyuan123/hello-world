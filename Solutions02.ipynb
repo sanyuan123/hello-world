{
 "cells": [
  {
   "cell_type": "markdown",
   "metadata": {},
   "source": [
    "# Assignment 02\n",
    "\n",
    "**Due:** Thursday, 2020-02-13, 11:59 PM, as a Jupyter notebook submitted via your repo in the course GitHub organization (see the detailed submission instructions in our LabResources repo).  Edit the provided Solution02 notebook with your solutions.  All subproblems are worth 1 point unless otherwise noted (grading will assign fractional points as appropriate)."
   ]
  },
  {
   "cell_type": "markdown",
   "metadata": {
    "tags": [
     "problem=1.1",
     "points=0.5"
    ]
   },
   "source": [
    "### Problem 1.1 (1/2 point):\n",
    "\n",
    "> *How many possible binary logical operations are there?*  Don't just report a number; briefly explain your reasoning."
   ]
  },
  {
   "cell_type": "markdown",
   "metadata": {},
   "source": [
    "There are 16 binary logical operations.\n",
    "> Set A, B are two operands, then the results of A and B can have 2 values (i.e. 0 and 1). Meanwhile, A and B each can take two values as well (i.e. 0 and 1) so there are $2^2 = 4$ possible combination. Hence, in total there are $2^{2^2} = 16$ binary logical operations."
   ]
  },
  {
   "cell_type": "markdown",
   "metadata": {
    "tags": [
     "problem=1.2",
     "points=0.5"
    ]
   },
   "source": [
    "### Problem 1.2 (1/2 point):\n",
    "\n",
    "An important result in propositional logic is that **all** possible logical operations can be expressed in terms of **NOT**, **AND**, and **OR**; one says this set of operations is *functionally complete*.  In particular, whatever your answer was for Problem 1.1, all of those binary operations can be expressed as some combination of **NOT**, **AND**, and **OR**.  This is important for probability theory, which is built on expressions for probabilities for these three operations on propositions.\n",
    "\n",
    "> *Express **XOR** in terms of **NOT**, **AND**, and **OR** (you may not need all of them).*\n",
    "\n",
    "> Present your result as a truth table similar to this:\n",
    "\n",
    "| $A$ | $B$ |   | OP1 | OP2 | ... |   | **Answer** |\n",
    "|:---:|:---:|---|:---:|:---:|:---:|---|:----------:|\n",
    "| 0   | 0   |   | ?   | ?   |     |   | 0          |\n",
    "| 0   | 1   |   | ?   | ?   |     |   | 1          |\n",
    "| 1   | 0   |   | ?   | ?   |     |   | 1          |\n",
    "| 1   | 1   |   | ?   | ?   |     |   | 0          |\n",
    "\n",
    "> Replace **OP1**, etc., with whatever operations you are composing to construct **XOR** (i.e., showing the ingredients comprising your expression), and replace **Answer** with your final expression (e.g., something like $(A\\land B)\\lor (\\overline{A\\lor B}) \\land B$, but not exactly that!).\n",
    "\n",
    "[To quickly create nice Markdown markup for the tables above, I used the [Markdown TablesGenerator](http://www.tablesgenerator.com/markdown_tables) that we used in Lab.  Feel free to use it to help with your solutions.]"
   ]
  },
  {
   "cell_type": "markdown",
   "metadata": {},
   "source": [
    "#### A XOR B = (A OR B) AND (A NAND B)\n",
    "\n",
    "|$A$ | <img width=\"150\"> $B$ | <img width=\"150\">$A\\lor B$ | <img width=\"150\">$A\\land B$ | <img width=\"150\">$\\overline{A\\land B}$ | <img width=\"150\">$(A\\lor B)\\land (\\overline{A\\land B})$ |\n",
    "|:---:|:---:|:-----------:|:------------:|:-----------------------:|:----------------------------------------:|\n",
    "| 0 | 0 | 0         | 0          | 1                     | 0                                      |\n",
    "| 0 | 1 | 1         | 0          | 1                     | 1                                      |\n",
    "| 1 | 0 | 1         | 0          | 1                     | 1                                      |\n",
    "| 1 | 1 | 1         | 1          | 0                     | 0                                      |\n",
    "\n"
   ]
  },
  {
   "cell_type": "markdown",
   "metadata": {
    "tags": [
     "problem=1.3",
     "points=1"
    ]
   },
   "source": [
    "### Problem 1.3:\n",
    "\n",
    "There are other small sets of functionally complete operations.  In fact, all possible logical operations can be expressed in terms of a **single** binary operator, which may be taken to be either **NAND** (\"*NOT* *AND*\" or \"not both,\" i.e., $\\overline{A\\land B}$) or **NOR** (\"*NOT* *OR*,\" i.e., $\\overline{A\\lor B}$, \"neither $A$ nor $B$\"), as defined in the following truth table:\n",
    "\n",
    "| $A$ | $B$ |   | $A$ NAND $B$ | $A$ NOR $B$ |\n",
    "|:---:|:---:|---|:------------:|:-----------:|\n",
    "| 0   | 0   |   | 1            | 1           |\n",
    "| 0   | 1   |   | 1            | 0           |\n",
    "| 1   | 0   |   | 1            | 0           |\n",
    "| 1   | 1   |   | 0            | 0           |\n",
    "\n",
    "> *Pick one of these operators, and express $\\overline{A}$, $A\\land B$, and $A\\lor B$ in terms of it.*  You need only present three expressions (use MathJax LaTeX); no truth tables are necessary."
   ]
  },
  {
   "cell_type": "markdown",
   "metadata": {},
   "source": [
    "Define **NAND** as $\\uparrow$\n",
    "\n",
    "\n",
    "$A\\land B = \\overline{(\\overline{A\\land A})\\land(\\overline{B\\land B})} = (A \\uparrow B)\\uparrow(A \\uparrow B)$\n",
    "\n",
    "$A\\lor B = \\overline{(\\overline{A\\land A})\\land(\\overline{B\\land B})} = (A \\uparrow A)\\uparrow(B \\uparrow B)$\n",
    "\n",
    "$\\overline{A} = \\overline{A\\land A} = (A \\uparrow A)$\n",
    "\n",
    "\n",
    "---\n",
    "\n",
    "Similar for **NOR**. \n",
    "\n",
    "Define **NOR** as $\\downarrow$. Reverse $\\uparrow$ to $\\downarrow$ and swap the left hand sides of the first two equations above.\n"
   ]
  },
  {
   "cell_type": "markdown",
   "metadata": {
    "tags": [
     "problem=1.4",
     "points=1"
    ]
   },
   "source": [
    "### Problem 1.4:\n",
    "\n",
    "Digital computers are essentially propositional logic computing devices, built using \"combinational logic gate\" circuit elements that implement basic logic functions (and \"sequential logic\" elements that implement memory).  A key component of a CPU chip in a computer is an *arithmetic logic unit* (ALU) that performs arithmetic and bitwise logic operations on bits and larger groups of binary digits (*nibbles* comprised of 4 bits, *bytes* comprised of 8 bits, and *words* comprised of multiple bytes).  The ALU is built from simple gates that implement desired operations via truth table representations.  For example, the addition of the lowermost bits, $A$ and $B$, of two numbers can be expressed by the following truth table:\n",
    "\n",
    "| $A$ | $B$ |   | Sum | Carry |\n",
    "|:---:|:---:|---|:---:|:-----:|\n",
    "| 0   | 0   |   | 0   | 0     |\n",
    "| 0   | 1   |   | 1   | 0     |\n",
    "| 1   | 0   |   | 1   | 0     |\n",
    "| 1   | 1   |   | 0   | 1     |\n",
    "\n",
    "Here **Sum** denotes the first (lowermost) binary digit of the sum of $A$ and $B$, and **Carry** denotes a carry bit, indicating that $1+1=2$, or 10 in binary (the carry bit will affect the outcome of adding the next highest bits of the numbers being processed by the ALU).  Two logic functions implementing this table comprise a *half adder* (a *full adder* is a trinary operation that handles an additional carry bit input).\n",
    "\n",
    "> *Express the Sum and Carry operations in terms of **NOT**, **AND**, and **OR**.*  Show the intermediate operations in a truth table, along the lines of Problem 1.2."
   ]
  },
  {
   "cell_type": "markdown",
   "metadata": {},
   "source": [
    "#### CARRY is the same as AND; SUM is the same as XOR, use the answer from Question 1.1:\n",
    "|$A$ | <img width=\"150\">$B$ | <img width=\"150\">$A\\lor B$ | <img width=\"150\">**CARRY** = $A\\land B$ | <img width=\"150\">$\\overline{A\\land B}$ | <img width=\"200\">**SUM** =  $(A\\lor B)\\land (\\overline{A\\land B})$ |\n",
    "|:---:|:---:|:-----------:|:------------:|:-----------------------:|:----------------------------------------:|\n",
    "| 0 | 0 | 0         | 0          | 1                     | 0                                      |\n",
    "| 0 | 1 | 1         | 0          | 1                     | 1                                      |\n",
    "| 1 | 0 | 1         | 0          | 1                     | 1                                      |\n",
    "| 1 | 1 | 1         | 1          | 0                     | 0                                      |\n"
   ]
  },
  {
   "cell_type": "markdown",
   "metadata": {
    "tags": [
     "problem=2.1",
     "points=1"
    ]
   },
   "source": [
    "### Problem 2.1:\n",
    "\n",
    "> *Using Bayes's theorem, answer the question posed in the Kahneman/Tversky problem, verifying that the typical answer is incorrect.*\n",
    "> * Specify the hypothesis space.\n",
    "> * Specify the data proposition.\n",
    "> * Calculate the posterior probabilities for the hypotheses, presenting a table that shows the prior, likelihood, prior$\\times$likelihood, and posterior probabilities for the hypotheses."
   ]
  },
  {
   "cell_type": "markdown",
   "metadata": {},
   "source": [
    "#### Hypothesis Space\n",
    "> $H_{Green}$ = The cab involved in the accident is actually Green \n",
    "\n",
    "> $H_{Blue}$ = The cab involved in the accident is actually Blue\n",
    "\n",
    "#### Data Proposition\n",
    "> $D_{obs}$ = Blue (The witness identified the cab as Blue).\n",
    "\n",
    "#### Hypothesis Table\n",
    ">|       |   <img width=\"150\">$H_i$   | <img width=\"150\">$\\Pi_i$ | <img width=\"150\">$\\mathcal{L}_i = \\mathbb{P}(D_{Blue} \\mid H_i, C)$ | <img width=\"150\">$\\Pi_i \\times \\mathcal{L}_i$ |     <img width=\"150\">$\\mathbb{P}(H_i \\mid D_{Blue}, C)$     |\n",
    "|:-----:|:---------:|:-------:|:-------------------------------------------:|:----------------------------:|:-----------------------------------:|\n",
    "|  Blue |  $H_{Blue}$ |   0.15  |                     0.80                    |             0.12             | $\\frac{0.12}{0.12 + 0.17} = 41.4\\%$ |\n",
    "| Green | $H_{Green}$ |   0.85  |                     0.20                    |             0.17             |        $ 1 - 41.4\\% = 58.6\\% $       |"
   ]
  },
  {
   "cell_type": "markdown",
   "metadata": {
    "tags": [
     "problem=2.2",
     "points=1"
    ]
   },
   "source": [
    "### Problem 2.2:\n",
    "\n",
    "> Briefly explain what you think the heuristic is that most people used to justify their conclusion.  Criticize it in light of the result of the calculation in Problem 2.1.\n"
   ]
  },
  {
   "cell_type": "markdown",
   "metadata": {},
   "source": [
    "\n",
    "I think the most important mistake people used to justify their conclusion is that people sometimes will ignore the prior probablity and merely draw a conclusion based on the likelihood ($\\mathcal{L}$ in the table, the probablity that the witness is correct).\n",
    "\n",
    "\n",
    "Since the amount of Green cab is much more than the amount of Blue cab, therefore, it is more likely to misclassify the cab involved in the accident as Green,\n",
    "in other words, the posterior probablity of Blue cab is accident is smaller than the its likelihood."
   ]
  },
  {
   "cell_type": "markdown",
   "metadata": {
    "tags": [
     "problem=3.1",
     "points=1"
    ]
   },
   "source": [
    "### Problem 3.1 — Lazy Monty\n",
    "\n",
    "One of the contextual assumptions used in the lecture was that, when you have chosen the door with the prize behind it, Monty will open one of the other doors by choosing one of them randomly, with equal probability. Here, consider slightly different contextual information, $\\mathcal{C}'$, that specifies probabilities $q_2$ and $q_3 = 1-q_2$ that Monty will pick door 2 or door 3 (respectively) when neither hide the prize.  For example, from watching the show, you may have observed that Monty is at the right of the stage, and appears to be lazy: when he could have chosen either door, he tends to favor the one nearest to him (i.e., $q_3 > q_2$).\n",
    "\n",
    "> *Recalculate the probability table we computed in the lecture, to calculate posterior probabilities that the prize is behind each of the three doors.  As was done in lecture, assume you've initially chosen door 1, and that Monty opens door 3.*\n"
   ]
  },
  {
   "cell_type": "markdown",
   "metadata": {},
   "source": [
    "| $H_i$ | <img width=\"150\">$\\pi_i$ | <img width=\"150\">$\\mathcal{L}_i = \\mathbb{P}(D_3 \\mid H_i, C)$ | <img width=\"150\">$\\pi_i \\times \\mathcal{L}_i$ | <img width=\"150\">$\\mathbb{P}(H_i \\mid D_3, C)$ |\n",
    "|:-----:|:-------:|:----------------------------------------:|:----------------------------:|:------------------------:|\n",
    "| $H_1$ |   1/3   |                   $q_3$                  |            $\\frac{q_3}{3}$           |   $\\frac{q_3}{q_3 + 1}$  |\n",
    "| $H_2$ |   1/3   |                     1                    |              1/3             |    $\\frac{1}{q_3 + 1}$   |\n",
    "| $H_3$ |   1/3   |                     0                    |               0              |             0            |\n",
    "\n",
    "> The posterior probabilities the car is behind door 1, 2, and 3 are $\\frac{q_3}{q_3 + 1}$, $\\frac{1}{q_3 + 1}$, 0, respectively.\n",
    "> In this situtation, the player is better to swap because the $\\mathbb{P}(H_2|D_3, C)$ > $\\mathbb{P}(H_1|D_3, C)$."
   ]
  },
  {
   "cell_type": "markdown",
   "metadata": {
    "tags": [
     "problem=3.2",
     "points=1"
    ]
   },
   "source": [
    "### Problem 3.2 — LTP version\n",
    "\n",
    "Consider again the Monte Hall problem as treated in the lecture. We treated the case where you initially chose door 1, and the datum was the proposition, \"Monty opened door 3\" (which we denoted $D_3$).  It's probably obvious to you that the problem has symmetries: that it doesn't matter which door you initially picked, or which of the other doors Monty opened: it's always in your interest to switch.\n",
    "\n",
    "Here, treat the problem in a more symmetric way.  Keep the assumption that you've initially chosen door 1.  But suppose you are trying to come up with a *strategy* for the game, before knowing which door Monty opens (but otherwise knowing all the rules, as specified in the lecture).  Let $W$ denote the proposition, \"I will win by switching to the door Monty does not open.\"  \n",
    "\n",
    "> *Compute $P(W|\\mathcal{C})$ using the law of total probability (LTP) in the \"extend the conversation\" or \"wishful thinking\" version discussed in Lec03.  Pick a set of exclusive, exhaustive propositions (filling the role of the $B_i$ in Lec03) such that, if you knew one of them were true, you could compute $P(W|B_i,\\mathcal{C})$ (use whatever symbol you deem appropriate for $B_i$).  Then use the LTP to account for uncertainty about which of those propositions actually holds.*\n",
    "\n",
    "**Hint:** You should find the same result we found in the specific case treated in class, that the probability for winning if you switch is 2/3."
   ]
  },
  {
   "cell_type": "markdown",
   "metadata": {},
   "source": [
    "#### From Lecture, we know that the Sampling distribution table is:\n",
    "| $H_i$ | <img width=\"150\">$\\mathbb{P}(D_1 \\mid H_i, C)$ | <img width=\"150\">$\\mathbb{P}(D_2 \\mid H_i, C)$ | <img width=\"150\">$\\mathbb{P}(D_3 \\mid H_i, C)$ |\n",
    "|:-----:|:------------------------------------------:|:------------------------------------------:|:------------------------------------------:|\n",
    "| $H_1$ |                      0                     |                $\\frac{1}{2}$                |                $\\frac{1}{2}$                |\n",
    "| $H_2$ |                      0                     |                      0                     |                      1                     |\n",
    "| $H_3$ |                      0                     |                      1                     |                      0                     |\n",
    "\n",
    "---\n",
    "\n",
    "#### All the possible outcomes if we decided to open Door 1 initially.\n",
    "|       <img width=\"150\">Monte's Action       | The probablity of the action occurs | The case that we will win are $^{1.}$  |\n",
    "|:--------------------------------------------:|:-----------------------------------:|:-------------------------------------------------------------:|\n",
    "| $\\mathbb{P}(D_1 \\mid H_1) \\times \\mathbb{P}(H_1)$ |                  0                  |                  0                                             |\n",
    "| $\\mathbb{P}(D_1 \\mid H_2) \\times \\mathbb{P}(H_2)$ |                  0                  |                  0                                             |\n",
    "| $\\mathbb{P}(D_1 \\mid H_3) \\times \\mathbb{P}(H_3)$ |                  0                  |                 0                                              |\n",
    "| $\\mathbb{P}(D_2 \\mid H_1) \\times \\mathbb{P}(H_1)$ |   $\\frac{1}{2} \\times \\frac{1}{3} = \\frac{1}{6} $   |                                          0                     |\n",
    "| $\\mathbb{P}(D_2 \\mid H_2) \\times \\mathbb{P}(H_2)$ |                  0                  |                                            0                   |\n",
    "| $\\mathbb{P}(D_2 \\mid H_3) \\times \\mathbb{P}(H_3)$ |        $1 \\times \\frac{1}{3} = \\frac{1}{3} $       |                              1                              |\n",
    "| $\\mathbb{P}(D_3 \\mid H_1) \\times \\mathbb{P}(H_1)$ |   $\\frac{1}{2} \\times \\frac{1}{3} = \\frac{1}{6} $  |                              0                                 |\n",
    "| $\\mathbb{P}(D_3 \\mid H_2) \\times \\mathbb{P}(H_2)$ |        $1 \\times \\frac{1}{3} = \\frac{1}{3} $       |                              1                              |\n",
    "| $\\mathbb{P}(D_3 \\mid H_3) \\times \\mathbb{P}(H_3)$ |                  0                  |                                             0                  |\n",
    "\n",
    "\n",
    "$^{1.}$ Note that Monty will not open the door with the car, and the door we opened initially. Hence, the only possible ways of winning are (when we always choose to switch): \n",
    "* We initially pick Door 1 & Car at Door 3 $\\rightarrow$ Monty opens Door 2, and we switch to Door 3\n",
    "* We initially pick Door 1 & Car at Door 2 $\\rightarrow$ Monty opens Door 3, and we switch to Dooor 2\n",
    "\n",
    "\n",
    "Therefore, a heuristic way to think about the probability of winning is: $\\frac{\\frac{1}{3} + \\frac{1}{3}}{\\frac{1}{6} + \\frac{1}{3} + \\frac{1}{6} + \\frac{1}{3}} = \\frac{2}{3}$\n",
    "\n",
    "\n",
    "#### Using LTP:\n",
    "Set $P(W|B_{i,j})$ to be the probablity of winning given $H_i$ and $D_j$, where $B_{i,j}$ has two-dimension each represents the hypothesis that the car will be at Door i, and the Door j will be opened by Monty.\n",
    "\n",
    "$$\n",
    "P(W|C) \n",
    "= \\sum_{i = 1}^3 \\sum_{j=1}^3 P(W, B_{i,j}|C) \n",
    "= \\sum_{i=1}^3 \\sum_{j=1}^3 P(W|B_{i,j}, C) P(B_{i,j}|C) \n",
    "= \\sum_{i=1}^3 \\sum_{j=1}^3 P(W|B_{i,j}, C) P(D_i, H_j|C) \\\\\n",
    "= \\sum_{i=1}^3 \\sum_{j=1}^3 P(W|B_{i,j}, C) P(D_i | H_j, C) P(H_j|C) \n",
    "$$\n",
    "\n",
    "From the above tables, we can get that $P(W|B_{i,j}, C) = 1$ only when {i = 2, j = 3} and {i = 3, j = 2}, 0 otherwise.\n",
    "\n",
    "$P(D_i | H_j, C) P(H_j|C) = \\frac{1}{3}$ for both {i = 2, j = 3} and {i = 3, j = 2}\n",
    "\n",
    "Therefore, $P(W|C) = 1 \\times P(D_2 | H_3, C) P(H_3|C) + 1 \\times P(D_3 | H_2, C) P(H_2|C) = 1 \\times \\frac{1}{3} + 1 \\times \\frac{1}{3} = \\frac{2}{3}$"
   ]
  },
  {
   "cell_type": "markdown",
   "metadata": {
    "tags": [
     "problem=4.1",
     "points=1"
    ]
   },
   "source": [
    "### Problem 4.1:\n",
    "\n",
    "> *Derive the formula given in lecture for the expectation value of $x$, denoted $\\Bbb{E}(x)$ or $\\langle x\\rangle$, in terms of $a$ and $b$, where*\n",
    "$$\n",
    "\\Bbb{E}(x) = \\int dx\\; x \\times {\\rm Beta}(x|a,b).\n",
    "$$\n",
    "\n",
    "Present your derivation in the Jupyter notebook using MathJax LaTeX notation for the math (make sure to also use text to briefly explain your reasoning). "
   ]
  },
  {
   "cell_type": "markdown",
   "metadata": {},
   "source": [
    "\\begin{aligned}\n",
    "\\Bbb{E}(x) \n",
    "&= \\int\\; x \\times {\\rm Beta}(x|a,b)\\;dx\\\\\n",
    "&= \\int_0^1\\; x \\times \\frac{1}{B(a,b)} x^{a-1} (1-x)^{b-1} \\; dx\\\\\n",
    "&= \\int_0^1\\; x \\times \\frac{\\Gamma(a+b)}{\\Gamma(a) \\Gamma(b)} x^{a-1} (1-x)^{b-1} \\; dx\\\\\n",
    "&= \\frac{\\Gamma(a+b)}{\\Gamma(a) \\Gamma(b)} \\int_0^1\\; x^{a} (1-x)^{b-1} \\; dx\\\\\n",
    "&= \\frac{\\Gamma(a+b)}{\\Gamma(a) \\Gamma(b)} \\times \\frac{\\Gamma(a+1) \\Gamma(b)}{\\Gamma(a+b+1)}\\\\\n",
    "&= \\frac{\\Gamma(a+b)}{\\Gamma(a)} \\times \\frac{a\\times\\Gamma(a)}{(a+b)\\times\\Gamma(a+b)}\\\\\n",
    "&= \\frac{a}{(a+b)}\n",
    "\\end{aligned}"
   ]
  },
  {
   "cell_type": "markdown",
   "metadata": {
    "tags": [
     "problem=4.2",
     "points=1"
    ]
   },
   "source": [
    "### Problem 4.2:\n",
    "\n",
    "> *Derive the formula given in lecture for the mode of the beta distribution, $\\hat x$, in terms of $a$ and $b$.  (The mode is the value of $x$ with maximum probability density).*\n"
   ]
  },
  {
   "cell_type": "markdown",
   "metadata": {},
   "source": [
    "Mode: the first derivative of pdf = 0\n",
    "\n",
    "$$\n",
    "\\frac{d\\; {\\rm Beta}(x|a,b)}{dx}\n",
    "&= \\frac{1}{B(a,b)} \\frac{d\\; (x^{a-1} (1-x)^{b-1})}{dx} \\\\\n",
    "&= \\frac{1}{B(a,b)} \\big[(a-1)x^{a-2}(1-x)^{b-1} + x^{a-1}(b-1)(-1)(1-x)^{b-2} \\big] \\\\\n",
    "&= \\frac{1}{B(a,b)} \\big[(a-1)x^{a-2}(1-x)^{b-2}(1-x) - x^{a-2}x(b-1)(1-x)^{b-2} \\big] \\\\\n",
    "&= \\frac{1}{B(a,b)} x^{a-2}(1-x)^{b-2}\\big[(a-1)(1-x) - (b-1)x  \\big] \\\\\n",
    "$$\n",
    "\n",
    "equate this to zero, we get $(a-1)(1-x) - (b-1)x = 0$ (the first 3 terms cannot be zero), therefore:\n",
    "\n",
    "$$(a-1)(1-x) = (b-1)x$$\n",
    "\n",
    "solve for x, we get $\\hat x = \\frac{a-1}{a+b-2}$."
   ]
  },
  {
   "cell_type": "code",
   "execution_count": null,
   "metadata": {},
   "outputs": [],
   "source": []
  }
 ],
 "metadata": {
  "celltoolbar": "Tags",
  "kernelspec": {
   "display_name": "Python 3",
   "language": "python",
   "name": "python3"
  },
  "language_info": {
   "codemirror_mode": {
    "name": "ipython",
    "version": 3
   },
   "file_extension": ".py",
   "mimetype": "text/x-python",
   "name": "python",
   "nbconvert_exporter": "python",
   "pygments_lexer": "ipython3",
   "version": "3.7.6"
  }
 },
 "nbformat": 4,
 "nbformat_minor": 1
}
